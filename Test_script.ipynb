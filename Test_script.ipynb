{
  "nbformat": 4,
  "nbformat_minor": 0,
  "metadata": {
    "colab": {
      "name": "Test_script.ipynb",
      "provenance": []
    },
    "kernelspec": {
      "name": "python3",
      "display_name": "Python 3"
    },
    "language_info": {
      "name": "python"
    }
  },
  "cells": [
    {
      "cell_type": "code",
      "execution_count": null,
      "metadata": {
        "id": "YgJqAwNr7M0h"
      },
      "outputs": [],
      "source": [
        "from sklearn.metrics import confusion_matrix, precision_score, recall_score, f1_score\n",
        "import numpy as np\n",
        "import xgboost as xgb\n",
        "import pandas as pd\n",
        "import matplotlib.pyplot as plt\n",
        "import pickle"
      ]
    },
    {
      "cell_type": "code",
      "source": [
        "df = pd.read_csv(\"lpg_test_data.csv\", skiprows=0)\n",
        "df.head()"
      ],
      "metadata": {
        "id": "czFsB6_i7XUD"
      },
      "execution_count": null,
      "outputs": []
    },
    {
      "cell_type": "code",
      "source": [
        "df2 = pd.read_csv(\"lpg_trained_data.csv\", skiprows=0)\n",
        "df2.head()"
      ],
      "metadata": {
        "id": "Xt_80Xvn8jKD"
      },
      "execution_count": null,
      "outputs": []
    },
    {
      "cell_type": "code",
      "source": [
        "out = df.loc[~df.departure_port.isin(df2.departure_port)]\n",
        "out"
      ],
      "metadata": {
        "id": "WnxdeDEIGgJB"
      },
      "execution_count": null,
      "outputs": []
    },
    {
      "cell_type": "code",
      "source": [
        "sspd = df.loc[~df.sspd_mstd.isin(df2.sspd_mstd)]\n",
        "sspd"
      ],
      "metadata": {
        "id": "YejywEe4G2dD"
      },
      "execution_count": null,
      "outputs": []
    },
    {
      "cell_type": "code",
      "source": [
        "df_remove = pd.concat([out, sspd]).sort_values('voyage_id')\\\n",
        "    .drop_duplicates().reset_index(drop=True)"
      ],
      "metadata": {
        "id": "KiMxNbDYJ4QL"
      },
      "execution_count": null,
      "outputs": []
    },
    {
      "cell_type": "code",
      "source": [
        "df_remove"
      ],
      "metadata": {
        "id": "5XyFMfBqKdqN"
      },
      "execution_count": null,
      "outputs": []
    },
    {
      "cell_type": "code",
      "source": [
        "df_test = (df[~df.voyage_id.isin(df_remove.voyage_id)]).reset_index(drop=True)"
      ],
      "metadata": {
        "id": "yIrJTmU1KlG4"
      },
      "execution_count": null,
      "outputs": []
    },
    {
      "cell_type": "code",
      "source": [
        "df_test"
      ],
      "metadata": {
        "id": "a5_t8meQNuIZ"
      },
      "execution_count": null,
      "outputs": []
    },
    {
      "cell_type": "code",
      "source": [
        "X = df_test.copy()\n",
        "X"
      ],
      "metadata": {
        "id": "y8qFhDRrTsVU"
      },
      "execution_count": null,
      "outputs": []
    },
    {
      "cell_type": "code",
      "source": [
        "X.drop(['voyage_id', 'imo','mstd_id'], axis=1, inplace=True)"
      ],
      "metadata": {
        "id": "PKBW3P4NUOkE"
      },
      "execution_count": null,
      "outputs": []
    },
    {
      "cell_type": "code",
      "source": [
        "y = X['arrival_port'].copy()\n",
        "X.drop(['arrival_port'], axis=1, inplace=True)"
      ],
      "metadata": {
        "id": "1FE8iB3tepGg"
      },
      "execution_count": null,
      "outputs": []
    },
    {
      "cell_type": "code",
      "source": [
        "X.replace(\"autumn\", \n",
        "           \"autum\", \n",
        "           inplace=True)"
      ],
      "metadata": {
        "id": "hDt-r9P6Wl-c"
      },
      "execution_count": null,
      "outputs": []
    },
    {
      "cell_type": "code",
      "source": [
        "file = open(\"dp_enc.obj\",'rb')\n",
        "dp_enc = pickle.load(file)\n",
        "file.close()\n",
        "X[\"departure_port\"] = dp_enc.transform(X[\"departure_port\"])\n",
        "############\n",
        "file = open(\"sea_enc.obj\",'rb')\n",
        "sea_enc = pickle.load(file)\n",
        "file.close()\n",
        "X[\"season\"] = sea_enc.transform(X[\"season\"])\n",
        "##############\n",
        "file = open(\"seg_enc.obj\",'rb')\n",
        "seg_enc = pickle.load(file)\n",
        "file.close()\n",
        "X[\"sub_segment\"] = seg_enc.transform(X[\"sub_segment\"])\n",
        "#######################\n",
        "file = open(\"sspd_enc.obj\",'rb')\n",
        "sspd_enc = pickle.load(file)\n",
        "file.close()\n",
        "X[\"sspd_mstd\"] = sspd_enc.transform(X[\"sspd_mstd\"])"
      ],
      "metadata": {
        "id": "G4SNnXt8UQs2"
      },
      "execution_count": null,
      "outputs": []
    },
    {
      "cell_type": "code",
      "source": [
        "loaded_model = pickle.load(open(\"lpg_model.dat\", \"rb\"))\n",
        "y_pred = loaded_model.predict_proba(X) "
      ],
      "metadata": {
        "id": "bxV0bduUWzgQ"
      },
      "execution_count": null,
      "outputs": []
    },
    {
      "cell_type": "code",
      "source": [
        "file = open(\"dp_enc.obj\",'rb')\n",
        "dp_enc = pickle.load(file)\n",
        "file.close()\n",
        "X[\"departure_port\"] = dp_enc.inverse_transform(X[\"departure_port\"])\n",
        "############\n",
        "file = open(\"sea_enc.obj\",'rb')\n",
        "sea_enc = pickle.load(file)\n",
        "file.close()\n",
        "X[\"season\"] = sea_enc.inverse_transform(X[\"season\"])\n",
        "##############\n",
        "file = open(\"seg_enc.obj\",'rb')\n",
        "seg_enc = pickle.load(file)\n",
        "file.close()\n",
        "X[\"sub_segment\"] = seg_enc.inverse_transform(X[\"sub_segment\"])\n",
        "#######################\n",
        "file = open(\"sspd_enc.obj\",'rb')\n",
        "sspd_enc = pickle.load(file)\n",
        "file.close()\n",
        "X[\"sspd_mstd\"] = sspd_enc.inverse_transform(X[\"sspd_mstd\"])"
      ],
      "metadata": {
        "id": "0VqHsiWWw-B0"
      },
      "execution_count": null,
      "outputs": []
    },
    {
      "cell_type": "code",
      "source": [
        "# loaded_model.classes_\n",
        "file = open(\"enc_targets.obj\",'rb')\n",
        "dp_enc = pickle.load(file)\n",
        "file.close()\n",
        "label_classes = dp_enc.inverse_transform(loaded_model.classes_)"
      ],
      "metadata": {
        "id": "1wxjjPM6xVDf"
      },
      "execution_count": null,
      "outputs": []
    },
    {
      "cell_type": "code",
      "source": [
        "pred_To_Class_map = pd.DataFrame(y_pred*100, columns=label_classes)\n",
        "pred_To_Class_map"
      ],
      "metadata": {
        "id": "YPKp-vyixfpH"
      },
      "execution_count": null,
      "outputs": []
    },
    {
      "cell_type": "code",
      "source": [
        "ports, prob = [pred_To_Class_map.idxmax(axis=1), pred_To_Class_map.max(axis=1)]\n",
        "ports[0]"
      ],
      "metadata": {
        "id": "T7TxyCZGyN4X"
      },
      "execution_count": null,
      "outputs": []
    },
    {
      "cell_type": "code",
      "source": [
        "pred_To_Class_map['JPNGO']"
      ],
      "metadata": {
        "id": "Mj3pWfpPzCMF"
      },
      "execution_count": null,
      "outputs": []
    },
    {
      "cell_type": "code",
      "source": [
        "prob[0]"
      ],
      "metadata": {
        "id": "wZsTxEtL0YJV"
      },
      "execution_count": null,
      "outputs": []
    },
    {
      "cell_type": "code",
      "source": [
        "df_predicted = pd.DataFrame({'predicted_ports': ports, 'predicted_probability': prob}, columns=['predicted_ports', 'predicted_probability'])"
      ],
      "metadata": {
        "id": "9N-12Ss91T6M"
      },
      "execution_count": null,
      "outputs": []
    },
    {
      "cell_type": "code",
      "source": [
        "df_predicted"
      ],
      "metadata": {
        "id": "Os2PucZl10Ug"
      },
      "execution_count": null,
      "outputs": []
    },
    {
      "cell_type": "code",
      "source": [
        "new_predicted_df = pd.concat([df_test, df_predicted], axis = 1)"
      ],
      "metadata": {
        "id": "wKaKTjyB11Jo"
      },
      "execution_count": null,
      "outputs": []
    },
    {
      "cell_type": "code",
      "source": [
        "new_predicted_df.drop(columns=['imo','sub_segment','departure_port','trajectory_length','sspd_mstd','sspd_dist','mstd_id','probablity','distance_ratio','season'], inplace=True)"
      ],
      "metadata": {
        "id": "hxL5W_qq2yql"
      },
      "execution_count": null,
      "outputs": []
    },
    {
      "cell_type": "code",
      "source": [
        "new_predicted_df.drop(columns=['arrival_port'],inplace=True)"
      ],
      "metadata": {
        "id": "YVJKKNapf7wH"
      },
      "execution_count": null,
      "outputs": []
    },
    {
      "cell_type": "code",
      "source": [
        "lpg_predicted_data = df.merge(new_predicted_df, how='left', on='voyage_id' )\n"
      ],
      "metadata": {
        "id": "cEihOCK6TuWV"
      },
      "execution_count": null,
      "outputs": []
    },
    {
      "cell_type": "code",
      "source": [
        "lpg_predicted_data"
      ],
      "metadata": {
        "id": "xlYCMtctW-e6"
      },
      "execution_count": null,
      "outputs": []
    },
    {
      "cell_type": "code",
      "source": [
        "lpg_predicted_data.predicted_ports.fillna(lpg_predicted_data.sspd_mstd, inplace=True)\n"
      ],
      "metadata": {
        "id": "BHjbwULQW_o5"
      },
      "execution_count": null,
      "outputs": []
    },
    {
      "cell_type": "code",
      "source": [
        "lpg_predicted_data.predicted_probability.fillna((lpg_predicted_data.probablity)*100, inplace=True)"
      ],
      "metadata": {
        "id": "mUC2Jmi8c8wv"
      },
      "execution_count": null,
      "outputs": []
    },
    {
      "cell_type": "code",
      "source": [
        "lpg_predicted_data"
      ],
      "metadata": {
        "id": "6XqJRTf5dF2_"
      },
      "execution_count": null,
      "outputs": []
    },
    {
      "cell_type": "code",
      "source": [
        "lpg_predicted_data.to_csv(r'chemical_predicted.csv', index=False)"
      ],
      "metadata": {
        "id": "HYD83etVdTV2"
      },
      "execution_count": null,
      "outputs": []
    },
    {
      "cell_type": "code",
      "source": [
        "comparison_column = np.where(lpg_predicted_data[\"arrival_port\"] == lpg_predicted_data[\"predicted_ports\"], True, False)"
      ],
      "metadata": {
        "id": "Nvte3p2tdkd3"
      },
      "execution_count": null,
      "outputs": []
    },
    {
      "cell_type": "code",
      "source": [
        "sum(comparison_column)"
      ],
      "metadata": {
        "id": "mdo13hL9hGIp"
      },
      "execution_count": null,
      "outputs": []
    },
    {
      "cell_type": "code",
      "source": [
        ""
      ],
      "metadata": {
        "id": "MWRpxcrGhHYR"
      },
      "execution_count": null,
      "outputs": []
    }
  ]
}