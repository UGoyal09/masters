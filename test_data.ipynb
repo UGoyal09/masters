{
 "cells": [
  {
   "cell_type": "code",
   "execution_count": 1,
   "metadata": {},
   "outputs": [],
   "source": [
    "import traceback\n",
    "\n",
    "import psycopg2\n",
    "from psycopg2 import extras\n",
    "import numpy as np\n",
    "import pandas as pd"
   ]
  },
  {
   "cell_type": "code",
   "execution_count": 50,
   "metadata": {},
   "outputs": [],
   "source": [
    "def db_connect():\n",
    "    print(\"[db_connect] connecting to database\")\n",
    "    conn = None\n",
    "    try:\n",
    "        conn = psycopg2.connect(\n",
    "            host=\"localhost\",\n",
    "            database=\"postgres\",\n",
    "            user=\"postgres\",\n",
    "            port=\"5432\",\n",
    "            password=\"agra12345\",\n",
    "            sslmode=\"disable\")\n",
    "\n",
    "    except (Exception, psycopg2.DatabaseError) as error:\n",
    "        print(\"\\n[db_connect] error while connecting to DB:\\n\")\n",
    "        traceback.print_exc()\n",
    "        if conn is not None:\n",
    "            conn.close()\n",
    "\n",
    "        raise error\n",
    "\n",
    "    print(\"[db_connect] Successfully established connection\")\n",
    "\n",
    "    return conn"
   ]
  },
  {
   "cell_type": "code",
   "execution_count": 51,
   "metadata": {},
   "outputs": [],
   "source": [
    "def select(connection, q, args=None):\n",
    "    try:\n",
    "        cursor = connection.cursor()\n",
    "        cursor.execute(q, args)\n",
    "        connection.commit()\n",
    "\n",
    "        result = cursor.fetchall()\n",
    "        cursor.close()\n",
    "\n",
    "        return result\n",
    "    except (Exception, psycopg2.DatabaseError) as error:\n",
    "        cursor.close()\n",
    "        connection.close()\n",
    "        print(\"\\n[select] an error occured:\\n\")\n",
    "        traceback.print_exc()\n",
    "        raise error\n",
    "\n",
    "\n",
    "def get(connection, q, args=None):\n",
    "    try:\n",
    "        cursor = connection.cursor()\n",
    "        cursor.execute(q, args)\n",
    "        connection.commit()\n",
    "\n",
    "        result = cursor.fetchone()\n",
    "        cursor.close()\n",
    "\n",
    "        return result\n",
    "    except (Exception, psycopg2.DatabaseError) as error:\n",
    "        cursor.close()\n",
    "        connection.close()\n",
    "        print(\"\\n[select] an error occured:\\n\")\n",
    "        traceback.print_exc()\n",
    "        raise error\n"
   ]
  },
  {
   "cell_type": "code",
   "execution_count": null,
   "metadata": {},
   "outputs": [],
   "source": [
    "conn = db_connect()"
   ]
  },
  {
   "cell_type": "code",
   "execution_count": 24,
   "metadata": {},
   "outputs": [],
   "source": [
    "def get_voyages(connection):\n",
    "    q = \"\"\"\n",
    "        select departure_port, id, imo, departure_timestamp, sub_segment, arrival_port from lpg_voyages  where '2022-02-01' between departure_timestamp and arrival_timestamp;\n",
    "    \"\"\"\n",
    "    try:\n",
    "        result = select(connection, q)\n",
    "    except Exception as e:\n",
    "        raise e\n",
    "\n",
    "    return result"
   ]
  },
  {
   "cell_type": "code",
   "execution_count": 25,
   "metadata": {},
   "outputs": [],
   "source": [
    "voyages = get_voyages(conn)"
   ]
  },
  {
   "cell_type": "code",
   "execution_count": null,
   "metadata": {
    "scrolled": true
   },
   "outputs": [],
   "source": [
    "voyages"
   ]
  },
  {
   "cell_type": "code",
   "execution_count": null,
   "metadata": {},
   "outputs": [],
   "source": [
    "df = pd.DataFrame(voyages, columns=[\n",
    "        \"departure_port\",\n",
    "        \"voyage_id\",\n",
    "        \"imo\",\n",
    "        \"departure_timestamp\",\n",
    "        \"sub_segment\",\n",
    "        \"arrival_port\"\n",
    "    ])\n",
    "df"
   ]
  },
  {
   "cell_type": "code",
   "execution_count": 28,
   "metadata": {},
   "outputs": [],
   "source": [
    "def get_trajectories(connection, ids, timestamp):\n",
    "    q = \"\"\"\n",
    "           select st_asgeojson(trajectory) as geojson, st_numpoints(trajectory) as length FROM (\n",
    "             select st_makeline(position) as trajectory from (\n",
    "            select position from lpg_statuses where imo=%s and timestamp between %s and '2022-02-01' order by timestamp asc\n",
    "         ) ssq \n",
    "        ) sq;   \n",
    "    \"\"\"\n",
    "    try:\n",
    "        result = select(connection, q, (ids, timestamp))\n",
    "    except Exception as e:\n",
    "        raise e\n",
    "\n",
    "    return result"
   ]
  },
  {
   "cell_type": "code",
   "execution_count": 29,
   "metadata": {},
   "outputs": [],
   "source": [
    "\n",
    "def progressBar(prefix, current, total, barLength=20):\n",
    "    percent = float(current) * 100 / total\n",
    "    arrow = \"=\" * int(percent/100 * barLength - 1) + \">\"\n",
    "    spaces = \" \" * (barLength - len(arrow))\n",
    "\n",
    "    print(\"%s [%s%s] %d %%\" % (prefix, arrow, spaces, percent), end=\"\\r\")\n"
   ]
  },
  {
   "cell_type": "code",
   "execution_count": null,
   "metadata": {},
   "outputs": [],
   "source": [
    "df[df.isna().any(axis=1)]"
   ]
  },
  {
   "cell_type": "code",
   "execution_count": null,
   "metadata": {},
   "outputs": [],
   "source": [
    "for index, row in df.iterrows():\n",
    "    try:\n",
    "        progressBar(\"    progress:\", index+1, len(df))\n",
    "        trajectories = get_trajectories(conn, row[\"imo\"], row[\"departure_timestamp\"])\n",
    "        print(\"Length ::\", trajectories[0][1])\n",
    "        if trajectories[0][1] is None:      \n",
    "            print(\"trajectories::\", trajectories[0][0])\n",
    "        else:\n",
    "            df.loc[index, \"trajectory\"] = trajectories[0][0]\n",
    "            df.loc[index, \"trajectory_length\"] = int(trajectories[0][1])\n",
    "            df.loc[index, \"season\"] = \"autumn\"\n",
    "    except BaseException as e:\n",
    "        raise e"
   ]
  },
  {
   "cell_type": "code",
   "execution_count": null,
   "metadata": {},
   "outputs": [],
   "source": [
    "df"
   ]
  },
  {
   "cell_type": "code",
   "execution_count": 34,
   "metadata": {},
   "outputs": [],
   "source": [
    "df.to_csv(r'C:\\Users\\NISHU\\Desktop\\chemical_data.csv')"
   ]
  },
  {
   "cell_type": "code",
   "execution_count": 56,
   "metadata": {},
   "outputs": [],
   "source": [
    "def insert_training_sample(connection, data):\n",
    "    \"\"\" insert sample into external db \"\"\"\n",
    "\n",
    "    q = \"\"\"\n",
    "        INSERT into lpg_test_voyages(\n",
    "            departure_port,\n",
    "            voyage_id,\n",
    "            imo,\n",
    "            departure_timestamp,\n",
    "            trajectory,\n",
    "            trajectory_length,\n",
    "            sub_segment,\n",
    "            season,\n",
    "            arrival_port\n",
    "        ) VALUES %s\n",
    "    \"\"\"\n",
    "\n",
    "    try:\n",
    "        cursor = connection.cursor()\n",
    "        extras.execute_values(\n",
    "            cursor, q, data, template=None, page_size=100\n",
    "        )\n",
    "        connection.commit()\n",
    "    except (Exception, psycopg2.DatabaseError) as error:\n",
    "        cursor.close()\n",
    "        print(\"\\n[execute] an error occured:\\n\")\n",
    "        traceback.print_exc()\n",
    "        raise error\n"
   ]
  },
  {
   "cell_type": "code",
   "execution_count": 57,
   "metadata": {},
   "outputs": [],
   "source": [
    "def batch_insert(conn, df):\n",
    "    # drop unwanted columns before insert\n",
    "    df = df.dropna()\n",
    "    # re-order columns for insert\n",
    "    df = df[[\n",
    "         \"departure_port\",\n",
    "         \"voyage_id\",\n",
    "         \"imo\",\n",
    "         \"departure_timestamp\",\n",
    "         \"trajectory\",\n",
    "         \"trajectory_length\",\n",
    "         \"sub_segment\",\n",
    "         \"season\",\n",
    "         \"arrival_port\"\n",
    "    ]]\n",
    "\n",
    "    print(\"    [batch_insert] inserting {:d} samples\".format(len(df)))\n",
    "    insert_training_sample(conn, df.values)\n"
   ]
  },
  {
   "cell_type": "code",
   "execution_count": 58,
   "metadata": {},
   "outputs": [
    {
     "name": "stdout",
     "output_type": "stream",
     "text": [
      "    [batch_insert] inserting 498 samples\n"
     ]
    }
   ],
   "source": [
    "batch_insert(conn, df)"
   ]
  },
  {
   "cell_type": "code",
   "execution_count": 70,
   "metadata": {},
   "outputs": [],
   "source": [
    "def fetch_voyages_with_traj(connection):\n",
    "    q = \"\"\"\n",
    "        SELECT\n",
    "            id,\n",
    "            departure_port,\n",
    "            departure_lon,\n",
    "            departure_lat,\n",
    "            season,\n",
    "            st_x(points) AS lon,\n",
    "            st_y(points) AS lat,\n",
    "            sub_segment,\n",
    "            imo\n",
    "        FROM (\n",
    "            SELECT\n",
    "                -- voyage info\n",
    "                a.voyage_id as id,\n",
    "                a.imo as imo,\n",
    "                (st_dumppoints (a.trajectory)).geom AS points,\n",
    "\n",
    "                -- departure port position and id\n",
    "                st_x(b.position) as departure_lon,\n",
    "                st_y(b.position) as departure_lat,\n",
    "                b.locode as departure_port,\n",
    "\n",
    "                a.sub_segment,\n",
    "                a.season\n",
    "\n",
    "            FROM \"chemical_test_voyages\" a\n",
    "\n",
    "            LEFT JOIN ports as b ON (b.locode = a.departure_port)\n",
    "\n",
    "        ) f\n",
    "        ORDER BY id ASC\n",
    "    \"\"\"\n",
    "            # WHERE a.id in %s\n",
    "\n",
    "    # ids = tuple(i[0] for i in voyage_ids)\n",
    "    try:\n",
    "        result = select(connection, q)\n",
    "    except Exception as e:\n",
    "        raise e\n",
    "\n",
    "    return result"
   ]
  },
  {
   "cell_type": "code",
   "execution_count": 53,
   "metadata": {},
   "outputs": [],
   "source": [
    "def get_voyages(conn):\n",
    "    try:\n",
    "        # ids = fetch_voyages_to_process(conn, start_id, limit)\n",
    "        voyages = fetch_voyages_with_traj(conn)\n",
    "    except BaseException as e:\n",
    "        raise e\n",
    "\n",
    "    if voyages is None:\n",
    "        return None\n",
    "\n",
    "    data = parse_trajectories(voyages)\n",
    "\n",
    "    return pd.DataFrame(data, columns=[\n",
    "        \"id\",\n",
    "        \"imo\",\n",
    "        \"season\",\n",
    "        \"sub_segment\",\n",
    "        \"departure_port\",\n",
    "        \"departure_port_coords\",\n",
    "        \"trajectory\",\n",
    "        \"trajectory_length\",\n",
    "    ])"
   ]
  },
  {
   "cell_type": "code",
   "execution_count": 54,
   "metadata": {},
   "outputs": [],
   "source": [
    "def parse_trajectories(data):\n",
    "    voyages = {}\n",
    "    for id, fp, flon, flat,sea, lon, lat, subs, imo in data:\n",
    "        if id in voyages:\n",
    "            voyages[id][\"trajectory\"].append([lon, lat])\n",
    "            voyages[id][\"trajectory_length\"] += 1\n",
    "        else:\n",
    "            voyages[id] = {\n",
    "                \"id\": id,\n",
    "                \"imo\": imo,\n",
    "                \"season\":sea,\n",
    "                # \"mmsi\": mmsi,\n",
    "                \"sub_segment\": subs,\n",
    "                \"departure_port\": fp,\n",
    "                \"departure_port_coords\": [flon, flat],\n",
    "                \"trajectory\": [[lon, lat]],\n",
    "                \"trajectory_length\": 1,\n",
    "                # \"arrival_terminal\": at,\n",
    "                # \"departure_terminal\": dt,\n",
    "                # \"destination_port_is_import\": dpi,\n",
    "                # \"vessel_age\": va,\n",
    "            }\n",
    "\n",
    "    return voyages.values()"
   ]
  },
  {
   "cell_type": "code",
   "execution_count": null,
   "metadata": {},
   "outputs": [],
   "source": [
    "get_voyages(conn)"
   ]
  },
  {
   "cell_type": "code",
   "execution_count": null,
   "metadata": {},
   "outputs": [],
   "source": []
  }
 ],
 "metadata": {
  "kernelspec": {
   "display_name": "Python 3",
   "language": "python",
   "name": "python3"
  },
  "language_info": {
   "codemirror_mode": {
    "name": "ipython",
    "version": 3
   },
   "file_extension": ".py",
   "mimetype": "text/x-python",
   "name": "python",
   "nbconvert_exporter": "python",
   "pygments_lexer": "ipython3",
   "version": "3.7.3"
  }
 },
 "nbformat": 4,
 "nbformat_minor": 2
}
